{
 "cells": [
  {
   "cell_type": "code",
   "execution_count": 2,
   "metadata": {},
   "outputs": [],
   "source": [
    "import pandas as pd\n",
    "import geopandas as gpd\n",
    "import libpysal\n",
    "from shapely import wkt"
   ]
  },
  {
   "cell_type": "code",
   "execution_count": 3,
   "metadata": {},
   "outputs": [],
   "source": [
    "pois = pd.read_csv('/home/gegen07/dev/projects/region-embedding-benchmark/region-embedding/baselines/poi-encoder/data/pois-chicago.csv')\n",
    "pois[\"geometry\"] = pois[\"geometry\"].apply(wkt.loads)\n",
    "pois = gpd.GeoDataFrame(pois, geometry=\"geometry\", crs=\"EPSG:4326\")\n",
    "pois[\"geometry\"] = pois[\"geometry\"].apply(lambda x: x if x.geom_type == \"Point\" else x.centroid)\n",
    "regions_unique_index = pois.index_right.unique().tolist()"
   ]
  },
  {
   "cell_type": "code",
   "execution_count": 7,
   "metadata": {},
   "outputs": [],
   "source": [
    "# boroughs = pd.read_csv('../../../data/cta_nyc.csv')\n",
    "boroughs = pd.read_csv('/home/gegen07/dev/projects/region-embedding-exploration/chicago/data-downstream-tasks/cta_chicago.csv')\n",
    "boroughs[\"geometry\"] = boroughs[\"geometry\"].apply(wkt.loads)\n",
    "boroughs = gpd.GeoDataFrame(boroughs, geometry=\"geometry\", crs=\"EPSG:4326\")\n",
    "\n",
    "boroughs = boroughs[boroughs.index.isin(regions_unique_index)]\n",
    "boroughs = boroughs.reset_index(drop=True)"
   ]
  },
  {
   "cell_type": "code",
   "execution_count": 8,
   "metadata": {},
   "outputs": [
    {
     "data": {
      "text/html": [
       "<div>\n",
       "<style scoped>\n",
       "    .dataframe tbody tr th:only-of-type {\n",
       "        vertical-align: middle;\n",
       "    }\n",
       "\n",
       "    .dataframe tbody tr th {\n",
       "        vertical-align: top;\n",
       "    }\n",
       "\n",
       "    .dataframe thead th {\n",
       "        text-align: right;\n",
       "    }\n",
       "</style>\n",
       "<table border=\"1\" class=\"dataframe\">\n",
       "  <thead>\n",
       "    <tr style=\"text-align: right;\">\n",
       "      <th></th>\n",
       "      <th>TRACTCE</th>\n",
       "      <th>GEOID</th>\n",
       "      <th>geometry</th>\n",
       "    </tr>\n",
       "  </thead>\n",
       "  <tbody>\n",
       "    <tr>\n",
       "      <th>0</th>\n",
       "      <td>30101</td>\n",
       "      <td>17031030101</td>\n",
       "      <td>POLYGON ((-87.66034 41.99229, -87.66011 41.992...</td>\n",
       "    </tr>\n",
       "    <tr>\n",
       "      <th>1</th>\n",
       "      <td>30701</td>\n",
       "      <td>17031030701</td>\n",
       "      <td>POLYGON ((-87.66007 41.98362, -87.65984 41.983...</td>\n",
       "    </tr>\n",
       "    <tr>\n",
       "      <th>2</th>\n",
       "      <td>70103</td>\n",
       "      <td>17031070103</td>\n",
       "      <td>POLYGON ((-87.64422 41.92805, -87.64381 41.928...</td>\n",
       "    </tr>\n",
       "    <tr>\n",
       "      <th>3</th>\n",
       "      <td>770602</td>\n",
       "      <td>17031770602</td>\n",
       "      <td>POLYGON ((-87.92084 42.02292, -87.91985 42.022...</td>\n",
       "    </tr>\n",
       "    <tr>\n",
       "      <th>4</th>\n",
       "      <td>841200</td>\n",
       "      <td>17031841200</td>\n",
       "      <td>POLYGON ((-87.68822 41.85934, -87.68807 41.859...</td>\n",
       "    </tr>\n",
       "    <tr>\n",
       "      <th>...</th>\n",
       "      <td>...</td>\n",
       "      <td>...</td>\n",
       "      <td>...</td>\n",
       "    </tr>\n",
       "    <tr>\n",
       "      <th>800</th>\n",
       "      <td>191000</td>\n",
       "      <td>17031191000</td>\n",
       "      <td>POLYGON ((-87.74630 41.92424, -87.74606 41.924...</td>\n",
       "    </tr>\n",
       "    <tr>\n",
       "      <th>801</th>\n",
       "      <td>560400</td>\n",
       "      <td>17031560400</td>\n",
       "      <td>POLYGON ((-87.74322 41.80762, -87.74316 41.807...</td>\n",
       "    </tr>\n",
       "    <tr>\n",
       "      <th>802</th>\n",
       "      <td>710700</td>\n",
       "      <td>17031710700</td>\n",
       "      <td>POLYGON ((-87.66330 41.74489, -87.66306 41.744...</td>\n",
       "    </tr>\n",
       "    <tr>\n",
       "      <th>803</th>\n",
       "      <td>550100</td>\n",
       "      <td>17031550100</td>\n",
       "      <td>POLYGON ((-87.54958 41.65143, -87.54958 41.651...</td>\n",
       "    </tr>\n",
       "    <tr>\n",
       "      <th>804</th>\n",
       "      <td>710300</td>\n",
       "      <td>17031710300</td>\n",
       "      <td>POLYGON ((-87.66361 41.75768, -87.66330 41.757...</td>\n",
       "    </tr>\n",
       "  </tbody>\n",
       "</table>\n",
       "<p>805 rows × 3 columns</p>\n",
       "</div>"
      ],
      "text/plain": [
       "     TRACTCE        GEOID                                           geometry\n",
       "0      30101  17031030101  POLYGON ((-87.66034 41.99229, -87.66011 41.992...\n",
       "1      30701  17031030701  POLYGON ((-87.66007 41.98362, -87.65984 41.983...\n",
       "2      70103  17031070103  POLYGON ((-87.64422 41.92805, -87.64381 41.928...\n",
       "3     770602  17031770602  POLYGON ((-87.92084 42.02292, -87.91985 42.022...\n",
       "4     841200  17031841200  POLYGON ((-87.68822 41.85934, -87.68807 41.859...\n",
       "..       ...          ...                                                ...\n",
       "800   191000  17031191000  POLYGON ((-87.74630 41.92424, -87.74606 41.924...\n",
       "801   560400  17031560400  POLYGON ((-87.74322 41.80762, -87.74316 41.807...\n",
       "802   710700  17031710700  POLYGON ((-87.66330 41.74489, -87.66306 41.744...\n",
       "803   550100  17031550100  POLYGON ((-87.54958 41.65143, -87.54958 41.651...\n",
       "804   710300  17031710300  POLYGON ((-87.66361 41.75768, -87.66330 41.757...\n",
       "\n",
       "[805 rows x 3 columns]"
      ]
     },
     "execution_count": 8,
     "metadata": {},
     "output_type": "execute_result"
    }
   ],
   "source": [
    "boroughs"
   ]
  },
  {
   "cell_type": "code",
   "execution_count": 9,
   "metadata": {},
   "outputs": [],
   "source": [
    "boroughs.to_csv('chicago_boroughs_to_embeddings.csv', index=False)"
   ]
  },
  {
   "cell_type": "code",
   "execution_count": null,
   "metadata": {},
   "outputs": [],
   "source": []
  }
 ],
 "metadata": {
  "kernelspec": {
   "display_name": "Python 3",
   "language": "python",
   "name": "python3"
  },
  "language_info": {
   "codemirror_mode": {
    "name": "ipython",
    "version": 3
   },
   "file_extension": ".py",
   "mimetype": "text/x-python",
   "name": "python",
   "nbconvert_exporter": "python",
   "pygments_lexer": "ipython3",
   "version": "3.10.13"
  }
 },
 "nbformat": 4,
 "nbformat_minor": 2
}
