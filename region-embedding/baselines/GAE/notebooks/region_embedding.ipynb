{
 "cells": [
  {
   "cell_type": "code",
   "execution_count": 1,
   "metadata": {},
   "outputs": [
    {
     "name": "stdout",
     "output_type": "stream",
     "text": [
      "RangeIndex(start=0, stop=1121, step=1)\n"
     ]
    }
   ],
   "source": [
    "import pandas as pd\n",
    "import numpy as np\n",
    "import pickle as pkl\n",
    "\n",
    "data = pd.read_pickle('/home/gegen07/dev/projects/region-embedding-benchmark/region-embedding/baselines/GAE/data/GAE-nyc-h3.pickle')\n",
    "\n",
    "geo_entities = pd.read_csv('/home/gegen07/dev/projects/master-region-embedding/src/data/multiple-graphs-nyc-h3/geo-entities.csv')\n",
    "dict = {}\n",
    "\n",
    "for key in data.keys():\n",
    "    dict[int(key)] = data[key]\n",
    "    \n",
    "emb = pd.DataFrame.from_dict(dict, orient='index').reset_index()\n",
    "emb = emb.rename(columns={'index': 'eID'})\n",
    "emb['eID'] = emb['eID'].astype(int)\n",
    "emb = emb.merge(geo_entities, on='eID', how='inner')\n",
    "emb.sort_values('eID').to_csv('nyc-GAE-H3.csv', index=False)\n",
    "print(emb.index)\n",
    "# cta = pd.read_csv('/home/gegen07/dev/projects/region-embedding-benchmark/region-embedding/data/cta_nyc.csv')\n",
    "# cta[['BoroCT2020']].merge(emb, left_index=True, right_index=True).sort_values('BoroCT2020').to_csv('./data/region_embedding.csv', index=False)\n"
   ]
  },
  {
   "cell_type": "code",
   "execution_count": null,
   "metadata": {},
   "outputs": [],
   "source": []
  }
 ],
 "metadata": {
  "kernelspec": {
   "display_name": "Python 3",
   "language": "python",
   "name": "python3"
  },
  "language_info": {
   "codemirror_mode": {
    "name": "ipython",
    "version": 3
   },
   "file_extension": ".py",
   "mimetype": "text/x-python",
   "name": "python",
   "nbconvert_exporter": "python",
   "pygments_lexer": "ipython3",
   "version": "3.10.13"
  }
 },
 "nbformat": 4,
 "nbformat_minor": 2
}
